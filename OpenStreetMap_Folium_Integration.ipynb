{
  "nbformat": 4,
  "nbformat_minor": 0,
  "metadata": {
    "colab": {
      "provenance": [],
      "authorship_tag": "ABX9TyPYof1hDw4U88w9NycBBqaF"
    },
    "kernelspec": {
      "name": "python3",
      "display_name": "Python 3"
    },
    "language_info": {
      "name": "python"
    }
  },
  "cells": [
    {
      "cell_type": "code",
      "execution_count": null,
      "metadata": {
        "id": "grhGRgTiVMVg"
      },
      "outputs": [],
      "source": [
        "import requests\n",
        "import folium\n",
        "\n",
        "def get_coordinates(location):\n",
        "    # URL base da API do OpenStreetMap\n",
        "    base_url = \"https://nominatim.openstreetmap.org/search\"\n",
        "    # Parâmetros da solicitação para a API (pesquisa da localização)\n",
        "    params = {\n",
        "        \"q\": location,  # Localização fornecida pelo usuário\n",
        "        \"format\": \"json\"  # Formato de resposta em JSON\n",
        "    }\n",
        "\n",
        "    try:\n",
        "        # Fazendo a solicitação GET para a API do OpenStreetMap\n",
        "        response = requests.get(base_url, params=params)\n",
        "        response.raise_for_status()  # Lança uma exceção se ocorrer um erro de solicitação\n",
        "\n",
        "        # Interpretar a resposta JSON\n",
        "        data = response.json()\n",
        "\n",
        "        if data:\n",
        "            # Obter as coordenadas da primeira correspondência (a mais relevante)\n",
        "            latitude = data[0][\"lat\"]\n",
        "            longitude = data[0][\"lon\"]\n",
        "            return latitude, longitude\n",
        "        else:\n",
        "            print(\"Localização não encontrada.\")\n",
        "            return None\n",
        "\n",
        "    except requests.exceptions.RequestException as e:\n",
        "        print(f\"Ocorreu um erro durante a solicitação: {e}\")\n",
        "        return None\n",
        "\n",
        "def main():\n",
        "    # Solicitar que o usuário digite a localização\n",
        "    location = input(\"Digite a localização: \")\n",
        "    # Obter as coordenadas usando a função get_coordinates\n",
        "    coordinates = get_coordinates(location)\n",
        "\n",
        "    if coordinates:\n",
        "        latitude, longitude = coordinates\n",
        "        # Exibir as coordenadas geográficas da localização fornecida pelo usuário\n",
        "        print(f\"Coordenadas de {location}: Latitude: {latitude}, Longitude: {longitude}\")\n",
        "\n",
        "        # Criar um mapa usando o Folium\n",
        "        map_location = folium.Map(location=[latitude, longitude], zoom_start=15)\n",
        "        # Adicionar um marcador no mapa para a localização fornecida pelo usuário\n",
        "        folium.Marker(location=[latitude, longitude], popup=location).add_to(map_location)\n",
        "        # Exibir o mapa interativo no navegador\n",
        "        map_location.save(\"mapa_interativo.html\")\n",
        "        print(\"Mapa interativo criado e salvo como 'mapa_interativo.html'. Abra o arquivo no navegador para visualizar.\")\n",
        "\n",
        "if __name__ == \"__main__\":\n",
        "    main()\n"
      ]
    }
  ]
}